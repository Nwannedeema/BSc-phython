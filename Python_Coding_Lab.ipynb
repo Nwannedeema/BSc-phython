{
  "nbformat": 4,
  "nbformat_minor": 0,
  "metadata": {
    "colab": {
      "provenance": [],
      "include_colab_link": true
    },
    "kernelspec": {
      "name": "python3",
      "display_name": "Python 3"
    },
    "language_info": {
      "name": "python"
    }
  },
  "cells": [
    {
      "cell_type": "markdown",
      "metadata": {
        "id": "view-in-github",
        "colab_type": "text"
      },
      "source": [
        "<a href=\"https://colab.research.google.com/github/Nwannedeema/BSc-phython/blob/main/Python_Coding_Lab.ipynb\" target=\"_parent\"><img src=\"https://colab.research.google.com/assets/colab-badge.svg\" alt=\"Open In Colab\"/></a>"
      ]
    },
    {
      "cell_type": "markdown",
      "source": [
        "1. Write a Python function that takes two numbers as arguments and returns their sum."
      ],
      "metadata": {
        "id": "ajgROiGyTL3h"
      }
    },
    {
      "cell_type": "code",
      "source": [
        "def add_numbers(a,b):\n",
        "   return a+b"
      ],
      "metadata": {
        "id": "fuUl71yUTIhW"
      },
      "execution_count": 2,
      "outputs": []
    },
    {
      "cell_type": "code",
      "source": [
        "add_numbers(48,50)"
      ],
      "metadata": {
        "colab": {
          "base_uri": "https://localhost:8080/"
        },
        "id": "owcCOVWEde22",
        "outputId": "284e708f-21ab-4cef-ef43-98057c5df6a1"
      },
      "execution_count": 3,
      "outputs": [
        {
          "output_type": "execute_result",
          "data": {
            "text/plain": [
              "98"
            ]
          },
          "metadata": {},
          "execution_count": 3
        }
      ]
    },
    {
      "cell_type": "markdown",
      "source": [
        "2. Create a python that asks the user their age and prints whether they are minor or an adult(assume the legal age is 18)"
      ],
      "metadata": {
        "id": "wevTCWRUIZih"
      }
    },
    {
      "cell_type": "code",
      "source": [
        "def user_age(age):\n",
        "    if age < 18:\n",
        "        print(\"minor\")\n",
        "    else:\n",
        "         print(\"adult\")\n"
      ],
      "metadata": {
        "id": "SVNo8k2dI4B5"
      },
      "execution_count": 48,
      "outputs": []
    },
    {
      "cell_type": "code",
      "source": [
        "user_age(60)"
      ],
      "metadata": {
        "colab": {
          "base_uri": "https://localhost:8080/"
        },
        "id": "4jN0LRBMp8nx",
        "outputId": "8f9c0cdd-704e-4987-c086-48db58ad5a6e"
      },
      "execution_count": 49,
      "outputs": [
        {
          "output_type": "stream",
          "name": "stdout",
          "text": [
            "adult\n"
          ]
        }
      ]
    },
    {
      "cell_type": "markdown",
      "source": [
        "**3. Write a Python function that takes a list of numbers and returns the largest number in the list.**"
      ],
      "metadata": {
        "id": "7LS1ApoGJV1_"
      }
    },
    {
      "cell_type": "code",
      "source": [
        "numbers= 1,2,3,4,5,6,7,8,9,10,11,12,13,14,15,16,17,18,19,20\n",
        "def largest_number(numbers):\n",
        "    largest = numbers[0]\n",
        "    for num in numbers:\n",
        "        if num > largest:\n",
        "            largest = num\n",
        "    return largest"
      ],
      "metadata": {
        "id": "gZidyoGwJZtw"
      },
      "execution_count": 23,
      "outputs": []
    },
    {
      "cell_type": "code",
      "source": [
        "largest_number(numbers)\n",
        "\n",
        ""
      ],
      "metadata": {
        "colab": {
          "base_uri": "https://localhost:8080/"
        },
        "id": "CbdQREubuSSF",
        "outputId": "9bd274d1-7ee7-4388-d920-fc3110e2f002"
      },
      "execution_count": 25,
      "outputs": [
        {
          "output_type": "execute_result",
          "data": {
            "text/plain": [
              "20"
            ]
          },
          "metadata": {},
          "execution_count": 25
        }
      ]
    },
    {
      "cell_type": "markdown",
      "source": [
        "**4. Write a Python function that takes a string as an argument and returns the string with all vowels removed.**"
      ],
      "metadata": {
        "id": "y-Cwf5m4JbC-"
      }
    },
    {
      "cell_type": "code",
      "source": [],
      "metadata": {
        "id": "Co93P23pJjF_"
      },
      "execution_count": 59,
      "outputs": []
    },
    {
      "cell_type": "markdown",
      "source": [
        "**5. Create a Python program that asks the user to enter their name and prints \"Hello, [name]!\" using the input name.**"
      ],
      "metadata": {
        "id": "T_L2gVLeJjvz"
      }
    },
    {
      "cell_type": "code",
      "source": [
        "print(\"enter your name\")\n",
        "name = input()\n",
        "print(\"hello\",name)\n"
      ],
      "metadata": {
        "id": "DYf1vu0MLxH6",
        "colab": {
          "base_uri": "https://localhost:8080/"
        },
        "outputId": "7c1219d0-6a1a-467d-9445-f51ab3a397ca"
      },
      "execution_count": 51,
      "outputs": [
        {
          "output_type": "stream",
          "name": "stdout",
          "text": [
            "enter your name\n",
            "Glorious\n",
            "hello Glorious\n"
          ]
        }
      ]
    },
    {
      "cell_type": "markdown",
      "source": [
        "**6. Create a Python function that takes a string as input and returns the length of the string.**"
      ],
      "metadata": {
        "id": "sekNATxvLx87"
      }
    },
    {
      "cell_type": "code",
      "source": [
        "print(\"dress\")\n",
        "dress=input(\"length of dress\")\n",
        "print(len(dress))"
      ],
      "metadata": {
        "id": "ZefqJ2enL4lw",
        "colab": {
          "base_uri": "https://localhost:8080/"
        },
        "outputId": "6584906d-cdc3-48e3-f783-e6f54a156c06"
      },
      "execution_count": 68,
      "outputs": [
        {
          "output_type": "stream",
          "name": "stdout",
          "text": [
            "dress\n",
            "length of dress  4\n",
            "3\n"
          ]
        }
      ]
    },
    {
      "cell_type": "markdown",
      "source": [
        "**7. Create a Python program that asks the user to enter two numbers and prints their sum, difference, product, and quotient.**"
      ],
      "metadata": {
        "id": "Ay8MGXBKME7P"
      }
    },
    {
      "cell_type": "code",
      "source": [
        "def numbers(a,b):\n",
        "    sum = a+b\n",
        "    print(sum)\n",
        "    difference = a-b\n",
        "    print(difference)\n",
        "    product = a*b\n",
        "    print(product)\n",
        "    quotient = a/b\n",
        "    print(quotient)"
      ],
      "metadata": {
        "id": "RIiX5dpuMHAd"
      },
      "execution_count": 69,
      "outputs": []
    },
    {
      "cell_type": "code",
      "source": [
        "calulator(10,5)\n"
      ],
      "metadata": {
        "colab": {
          "base_uri": "https://localhost:8080/"
        },
        "id": "r8iH9kJ6LMZq",
        "outputId": "974e1603-53cf-4f35-9634-08faa7435aad"
      },
      "execution_count": 70,
      "outputs": [
        {
          "output_type": "stream",
          "name": "stdout",
          "text": [
            "15\n",
            "5\n",
            "50\n",
            "2.0\n"
          ]
        }
      ]
    }
  ]
}